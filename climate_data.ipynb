{
 "cells": [
  {
   "cell_type": "code",
   "execution_count": 4,
   "id": "91d33eb8-d182-4046-8eea-d9e3462e991a",
   "metadata": {},
   "outputs": [],
   "source": [
    "# Importing Necessary Modules\n",
    "import numpy as np\n",
    "import pandas as pd\n",
    "import matplotlib.pyplot as plt\n",
    "import seaborn as sns  # Importing seaborn for better visualization\n",
    "from sklearn.manifold import TSNE\n",
    "from sklearn.preprocessing import StandardScaler"
   ]
  },
  {
   "cell_type": "code",
   "execution_count": 5,
   "id": "4f4be16b-a0a2-43cf-a925-da60778d65e1",
   "metadata": {},
   "outputs": [
    {
     "data": {
      "text/html": [
       "<div>\n",
       "<style scoped>\n",
       "    .dataframe tbody tr th:only-of-type {\n",
       "        vertical-align: middle;\n",
       "    }\n",
       "\n",
       "    .dataframe tbody tr th {\n",
       "        vertical-align: top;\n",
       "    }\n",
       "\n",
       "    .dataframe thead th {\n",
       "        text-align: right;\n",
       "    }\n",
       "</style>\n",
       "<table border=\"1\" class=\"dataframe\">\n",
       "  <thead>\n",
       "    <tr style=\"text-align: right;\">\n",
       "      <th></th>\n",
       "      <th>temperature</th>\n",
       "      <th>precipitation</th>\n",
       "      <th>humidity</th>\n",
       "      <th>co2_levels</th>\n",
       "      <th>wind_speed</th>\n",
       "      <th>sea_level_rise</th>\n",
       "    </tr>\n",
       "  </thead>\n",
       "  <tbody>\n",
       "    <tr>\n",
       "      <th>0</th>\n",
       "      <td>17.483571</td>\n",
       "      <td>981.882760</td>\n",
       "      <td>40.290589</td>\n",
       "      <td>429.955082</td>\n",
       "      <td>7.747558</td>\n",
       "      <td>2.257752</td>\n",
       "    </tr>\n",
       "    <tr>\n",
       "      <th>1</th>\n",
       "      <td>14.308678</td>\n",
       "      <td>654.528792</td>\n",
       "      <td>50.808133</td>\n",
       "      <td>338.392099</td>\n",
       "      <td>1.635120</td>\n",
       "      <td>3.027678</td>\n",
       "    </tr>\n",
       "    <tr>\n",
       "      <th>2</th>\n",
       "      <td>18.238443</td>\n",
       "      <td>607.711318</td>\n",
       "      <td>88.206106</td>\n",
       "      <td>405.580543</td>\n",
       "      <td>7.408273</td>\n",
       "      <td>2.956763</td>\n",
       "    </tr>\n",
       "    <tr>\n",
       "      <th>3</th>\n",
       "      <td>22.615149</td>\n",
       "      <td>641.413967</td>\n",
       "      <td>76.847271</td>\n",
       "      <td>353.561850</td>\n",
       "      <td>2.255336</td>\n",
       "      <td>3.169446</td>\n",
       "    </tr>\n",
       "    <tr>\n",
       "      <th>4</th>\n",
       "      <td>13.829233</td>\n",
       "      <td>1374.304042</td>\n",
       "      <td>46.955450</td>\n",
       "      <td>330.552974</td>\n",
       "      <td>6.331719</td>\n",
       "      <td>2.627995</td>\n",
       "    </tr>\n",
       "  </tbody>\n",
       "</table>\n",
       "</div>"
      ],
      "text/plain": [
       "   temperature  precipitation   humidity  co2_levels  wind_speed  \\\n",
       "0    17.483571     981.882760  40.290589  429.955082    7.747558   \n",
       "1    14.308678     654.528792  50.808133  338.392099    1.635120   \n",
       "2    18.238443     607.711318  88.206106  405.580543    7.408273   \n",
       "3    22.615149     641.413967  76.847271  353.561850    2.255336   \n",
       "4    13.829233    1374.304042  46.955450  330.552974    6.331719   \n",
       "\n",
       "   sea_level_rise  \n",
       "0        2.257752  \n",
       "1        3.027678  \n",
       "2        2.956763  \n",
       "3        3.169446  \n",
       "4        2.627995  "
      ]
     },
     "execution_count": 5,
     "metadata": {},
     "output_type": "execute_result"
    }
   ],
   "source": [
    "# Load the dataset\n",
    "data = pd.read_csv('climate data.csv')\n",
    "data.head()"
   ]
  },
  {
   "cell_type": "code",
   "execution_count": 6,
   "id": "2a8442a8-7f63-4a2a-85a6-eed23af41514",
   "metadata": {},
   "outputs": [
    {
     "data": {
      "text/html": [
       "<div>\n",
       "<style scoped>\n",
       "    .dataframe tbody tr th:only-of-type {\n",
       "        vertical-align: middle;\n",
       "    }\n",
       "\n",
       "    .dataframe tbody tr th {\n",
       "        vertical-align: top;\n",
       "    }\n",
       "\n",
       "    .dataframe thead th {\n",
       "        text-align: right;\n",
       "    }\n",
       "</style>\n",
       "<table border=\"1\" class=\"dataframe\">\n",
       "  <thead>\n",
       "    <tr style=\"text-align: right;\">\n",
       "      <th></th>\n",
       "      <th>temperature</th>\n",
       "      <th>precipitation</th>\n",
       "      <th>humidity</th>\n",
       "      <th>co2_levels</th>\n",
       "      <th>wind_speed</th>\n",
       "      <th>sea_level_rise</th>\n",
       "    </tr>\n",
       "  </thead>\n",
       "  <tbody>\n",
       "    <tr>\n",
       "      <th>9995</th>\n",
       "      <td>21.505510</td>\n",
       "      <td>1524.406697</td>\n",
       "      <td>52.797263</td>\n",
       "      <td>422.119236</td>\n",
       "      <td>14.194309</td>\n",
       "      <td>2.734895</td>\n",
       "    </tr>\n",
       "    <tr>\n",
       "      <th>9996</th>\n",
       "      <td>5.008275</td>\n",
       "      <td>1774.867153</td>\n",
       "      <td>65.575385</td>\n",
       "      <td>391.016348</td>\n",
       "      <td>7.487838</td>\n",
       "      <td>2.362891</td>\n",
       "    </tr>\n",
       "    <tr>\n",
       "      <th>9997</th>\n",
       "      <td>11.473416</td>\n",
       "      <td>823.585236</td>\n",
       "      <td>70.302313</td>\n",
       "      <td>394.083183</td>\n",
       "      <td>7.472625</td>\n",
       "      <td>4.229241</td>\n",
       "    </tr>\n",
       "    <tr>\n",
       "      <th>9998</th>\n",
       "      <td>17.478828</td>\n",
       "      <td>1630.739393</td>\n",
       "      <td>68.710204</td>\n",
       "      <td>425.080224</td>\n",
       "      <td>11.627498</td>\n",
       "      <td>1.638339</td>\n",
       "    </tr>\n",
       "    <tr>\n",
       "      <th>9999</th>\n",
       "      <td>18.221942</td>\n",
       "      <td>1822.032860</td>\n",
       "      <td>81.795935</td>\n",
       "      <td>522.296947</td>\n",
       "      <td>11.341150</td>\n",
       "      <td>2.914624</td>\n",
       "    </tr>\n",
       "  </tbody>\n",
       "</table>\n",
       "</div>"
      ],
      "text/plain": [
       "      temperature  precipitation   humidity  co2_levels  wind_speed  \\\n",
       "9995    21.505510    1524.406697  52.797263  422.119236   14.194309   \n",
       "9996     5.008275    1774.867153  65.575385  391.016348    7.487838   \n",
       "9997    11.473416     823.585236  70.302313  394.083183    7.472625   \n",
       "9998    17.478828    1630.739393  68.710204  425.080224   11.627498   \n",
       "9999    18.221942    1822.032860  81.795935  522.296947   11.341150   \n",
       "\n",
       "      sea_level_rise  \n",
       "9995        2.734895  \n",
       "9996        2.362891  \n",
       "9997        4.229241  \n",
       "9998        1.638339  \n",
       "9999        2.914624  "
      ]
     },
     "execution_count": 6,
     "metadata": {},
     "output_type": "execute_result"
    }
   ],
   "source": [
    "data.tail()"
   ]
  },
  {
   "cell_type": "code",
   "execution_count": 7,
   "id": "7daf7a49-0cf0-4e59-a65d-f8ccfd908b6f",
   "metadata": {},
   "outputs": [
    {
     "name": "stdout",
     "output_type": "stream",
     "text": [
      "<class 'pandas.core.frame.DataFrame'>\n",
      "RangeIndex: 10000 entries, 0 to 9999\n",
      "Data columns (total 6 columns):\n",
      " #   Column          Non-Null Count  Dtype  \n",
      "---  ------          --------------  -----  \n",
      " 0   temperature     10000 non-null  float64\n",
      " 1   precipitation   10000 non-null  float64\n",
      " 2   humidity        10000 non-null  float64\n",
      " 3   co2_levels      10000 non-null  float64\n",
      " 4   wind_speed      10000 non-null  float64\n",
      " 5   sea_level_rise  10000 non-null  float64\n",
      "dtypes: float64(6)\n",
      "memory usage: 468.9 KB\n"
     ]
    }
   ],
   "source": [
    "data.info()"
   ]
  },
  {
   "cell_type": "code",
   "execution_count": 8,
   "id": "4ae2ac65-0f88-4e48-8a4f-e065bdca9cd8",
   "metadata": {},
   "outputs": [
    {
     "name": "stdout",
     "output_type": "stream",
     "text": [
      "   temperature  precipitation  humidity  co2_levels  wind_speed  \\\n",
      "0     0.497154      -0.642090 -1.133148    0.606334    0.057360   \n",
      "1    -0.135665      -1.395950 -0.522296   -1.200923   -1.357867   \n",
      "2     0.647615      -1.503765  1.649752    0.125233   -0.021196   \n",
      "3     1.519979      -1.426152  0.990039   -0.901505   -1.214267   \n",
      "4    -0.231228       0.261613 -0.746058   -1.355650   -0.270453   \n",
      "\n",
      "   sea_level_rise  \n",
      "0       -0.747935  \n",
      "1        0.026025  \n",
      "2       -0.045261  \n",
      "3        0.168535  \n",
      "4       -0.375752  \n"
     ]
    }
   ],
   "source": [
    "scaler = StandardScaler()\n",
    "data_scaled  = scaler.fit_transform(data) \n",
    "print(pd.DataFrame(data_scaled ,columns =data.columns).head())"
   ]
  },
  {
   "cell_type": "code",
   "execution_count": 12,
   "id": "1e822aba-71da-4248-a502-f89df63f42b5",
   "metadata": {},
   "outputs": [],
   "source": [
    "tsne = TSNE(n_components=2, perplexity=30 , n_iter=300 ,random_state=0)\n",
    "data_tsne= tsne.fit_transform(data_scaled)\n",
    "tsne_df = pd.DataFrame(data_tsne, columns=[\"t-SNE-1\", \"t-SNE-2\"])"
   ]
  },
  {
   "cell_type": "code",
   "execution_count": null,
   "id": "9a9157ce-0a57-4d76-b7e4-2d6c20d2ea4f",
   "metadata": {},
   "outputs": [],
   "source": []
  }
 ],
 "metadata": {
  "kernelspec": {
   "display_name": "Python 3 (ipykernel)",
   "language": "python",
   "name": "python3"
  },
  "language_info": {
   "codemirror_mode": {
    "name": "ipython",
    "version": 3
   },
   "file_extension": ".py",
   "mimetype": "text/x-python",
   "name": "python",
   "nbconvert_exporter": "python",
   "pygments_lexer": "ipython3",
   "version": "3.13.1"
  }
 },
 "nbformat": 4,
 "nbformat_minor": 5
}
